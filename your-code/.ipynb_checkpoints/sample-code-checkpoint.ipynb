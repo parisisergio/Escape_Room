{
 "cells": [
  {
   "cell_type": "code",
   "execution_count": 13,
   "metadata": {},
   "outputs": [],
   "source": [
    "# define rooms and items\n",
    "\n",
    "#>>>>>>>>>>>>>>>>>>>>>>>>>> Furniture list>>>>>>>>>>>>>>>>>.\n",
    "##Control Room Furniture list\n",
    "commander_seat = {\n",
    "    \"name\": \"commander seat\",\n",
    "    \"type\": \"furniture\",\n",
    "}\n",
    "\n",
    "instrument_panel = {\n",
    "    \"name\": \"instrument panel\",\n",
    "    \"type\": \"furniture\",\n",
    "}\n",
    "\n",
    "##Engine Room Furniture list\n",
    "\n",
    "cupola_window = {\n",
    "    \"name\": \"cupola window\",\n",
    "    \"type\": \"furniture\",\n",
    "}\n",
    "zero_gravity_bed= {\n",
    "    \"name\": \"zero gravity bed\",\n",
    "    \"type\": \"furniture\",\n",
    "}\n",
    "space_training_machine = {\n",
    "    \"name\": \"space training machine\",\n",
    "    \"type\": \"furniture\",\n",
    "}\n",
    "closet = {\n",
    "    \"name\": \"closet\",\n",
    "    \"type\": \"furniture\",\n",
    "}\n",
    "# Laboratory room Furniture list\n",
    "\n",
    "cabinet = {\n",
    "    \"name\": \"cabinet\",\n",
    "    \"type\": \"furniture\",\n",
    "}\n",
    "experiment_table = {\n",
    "    \"name\": \"experiment table\",\n",
    "    \"type\": \"furniture\",\n",
    "}\n",
    "greenhouse = {\n",
    "    \"name\": \"greenhouse\",\n",
    "    \"type\": \"furniture\",\n",
    "}\n",
    "\n",
    "cabinet = {\n",
    "    \"name\": \"cabinet\",\n",
    "    \"type\": \"furniture\",\n",
    "}\n",
    "experiment_table = {\n",
    "    \"name\": \"experiment table\",\n",
    "    \"type\": \"furniture\",\n",
    "}\n",
    "greenhouse = {\n",
    "    \"name\": \"greenhouse\",\n",
    "    \"type\": \"furniture\",\n",
    "}\n",
    "\n",
    "# Doors List\n",
    "alpha_door = { \n",
    "    \"name\": \"alpha door\",\n",
    "     \"type\": \"door\",\n",
    "}\n",
    "\n",
    "beta_door = {\n",
    "    \"name\": \"beta door\",\n",
    "    \"type\": \"door\",\n",
    "}\n",
    "\n",
    "gamma_door = {\n",
    "    \"name\": \"gamma door\",\n",
    "    \"type\": \"door\",\n",
    "}\n",
    "\n",
    "space_door = {\n",
    "    \"name\": \"space door\",\n",
    "    \"type\": \"door\",\n",
    "}\n",
    "\n",
    "gamma_door = {\n",
    "    \"name\": \"gamma door\",\n",
    "    \"type\": \"door\",\n",
    "}\n",
    "\n",
    "\n",
    "## Docking room Furniture list\n",
    "\n",
    "dirty_box = {\n",
    "    \"name\": \"dirt box\",\n",
    "    \"type\": \"furniture\",\n",
    "}\n",
    "\n",
    "weird_bag = {\n",
    "    \"name\": \"weird bag\",\n",
    "    \"type\": \"furniture\",\n",
    "}\n",
    "\n",
    "# Keys list\n",
    "card_alpha = {\n",
    "    \"name\": \"access card alpha\",\n",
    "    \"type\": \"key\",\n",
    "    \"target\": alpha_door,\n",
    "}\n",
    "card_beta = {\n",
    "    \"name\": \"access card beta\",\n",
    "    \"type\": \"key\",\n",
    "    \"target\": beta_door,\n",
    "}\n",
    "card_gamma = {\n",
    "    \"name\": \"access card gamma\",\n",
    "    \"type\": \"key\",\n",
    "    \"target\": gamma_door,\n",
    "}\n",
    "card_space = {\n",
    "    \"name\": \"space card\",\n",
    "    \"type\": \"key\",\n",
    "    \"target\": space_door,\n",
    "}\n",
    "\n",
    "\n",
    "# Rooms list\n",
    "\n",
    "control_room = {\n",
    "    \"name\": \"control room\",\n",
    "    \"type\": \"room\",\n",
    "}\n",
    "engine_room = {\n",
    "    \"name\": \"engine room\",\n",
    "    \"type\": \"room\",\n",
    "}\n",
    "laboratory = {\n",
    "    \"name\": \"Laboratory\",\n",
    "    \"type\": \"room\",\n",
    "}\n",
    "docking_room = {\n",
    "    \"name\": \"docking room\",\n",
    "    \"type\": \"room\",\n",
    "}\n",
    "space = {\n",
    "    \"name\": \"space\",\n",
    "    \"type\": \"room\",\n",
    "}\n",
    "# Survival Items\n",
    "galactic_gps = {\n",
    "    \"name\": \"galactic gps\",\n",
    "    \"type\": \"survival_item\",\n",
    "}\n",
    "dog = {\n",
    "    \"name\": \"my dog David\",\n",
    "    \"type\": \"survival_item\",\n",
    "}\n",
    "picture = {\n",
    "    \"name\": \"my best friend Gonzalo\",\n",
    "    \"type\": \"survival_item\",\n",
    "}\n",
    "fuel = {\n",
    "    \"name\": \"fuel\",\n",
    "    \"type\": \"survival_item\",\n",
    "}\n",
    "huggable_bear = {\n",
    "    \"name\": \"huggable bear\",\n",
    "    \"type\": \"survival_item\",\n",
    "}\n",
    "\n",
    "lady_gaga_physical_album = {\n",
    "    \"name\": \"Lady Gaga's physical album\",\n",
    "    \"type\": \"survival_item\",\n",
    "}\n",
    "\n",
    "\n",
    "# all_rooms = [control_room, engine_room,laboratory,]\n",
    "\n",
    "# all_doors = [door_a, door_b, door_c, door_d]\n",
    "\n",
    "# define which items/rooms are related\n",
    "\n",
    "object_relations = {\n",
    "#room relations\n",
    "    \"control room\": [ commander_seat, instrument_panel, alpha_door],\n",
    "    \"engine room\": [cupola_window,  zero_gravity_bed, space_training_machine, closet,beta_door, gamma_door,alpha_door],\n",
    "    \"laboratory\": [cabinet, experiment_table,greenhouse,beta_door],\n",
    "    \"docking room\": [gamma_door, space_door, dirty_box, weird_bag],\n",
    "\n",
    "#doors relations\n",
    "    \"alpha door\": [control_room, engine_room],\n",
    "    \"beta door\": [engine_room, laboratory],\n",
    "    \"space door\": [docking_room,space],\n",
    "    \"gamma door\": [engine_room, docking_room],\n",
    "#Items relations\n",
    "    \"commander seat\": [card_alpha],\n",
    "    \"closet\": [picture],\n",
    "    \"cabinet\": [fuel],\n",
    "    \"dirty_box\": [lady_gaga_physical_album],\n",
    "    \"instrument panel\": [galactic_gps],\n",
    "    \"zero_gravity_bed\": [dog],\n",
    "    \"space_training_machine\": [card_beta],\n",
    "    \"greenhouse\": [card_space],\n",
    "    \"experiment_table\": [card_gamma],\n",
    "    \"weird_bag\": [huggable_bear],\n",
    "}\n",
    "\n",
    "# define game state. Do not directly change this dict. \n",
    "# Instead, when a new game starts, make a copy of this\n",
    "# dict and use the copy to store gameplay state. This \n",
    "# way you can replay the game multiple times.\n",
    "\n",
    "INIT_GAME_STATE = {\n",
    "    \"current_room\": control_room,\n",
    "    \"keys_collected\": [],\n",
    "    \"target_room\": space\n",
    "}"
   ]
  },
  {
   "cell_type": "code",
   "execution_count": 14,
   "metadata": {},
   "outputs": [],
   "source": [
    "def linebreak():\n",
    "    \"\"\"\n",
    "    Print a line break\n",
    "    \"\"\"\n",
    "    print(\"\\n\\n\")\n",
    "\n",
    "def start_game():\n",
    "    \"\"\"\n",
    "    Start the game\n",
    "    \"\"\"\n",
    "    print(\"You wake up on a couch and find yourself in a strange house with no windows which you have never been to before. You don't remember why you are here and what had happened before. You feel some unknown danger is approaching and you must get out of the house, NOW!\")\n",
    "    play_room(game_state[\"current_room\"]) ##### first step of the room\n",
    "\n",
    "    ##### Starts in game_room (initialized in state)\n",
    "    ##### value gets update when go_to_next_room functions gets called\n",
    "\n",
    "def play_room(room):\n",
    "    \"\"\"\n",
    "    Play a room. First check if the room being played is the target room.\n",
    "    If it is, the game will end with success. Otherwise, let player either \n",
    "    explore (list all items in this room) or examine an item found here.\n",
    "    \"\"\"\n",
    "    game_state[\"current_room\"] = room ##### stores in a variable the room for better readibility \n",
    "    if(game_state[\"current_room\"] == game_state[\"target_room\"]): \n",
    "        print(\"Congrats! You escaped the room!\") ##### validates if you win or not\n",
    "    else:\n",
    "        print(\"You are now in \" + room[\"name\"]) ##### uses the name value of the game_room dict, this would be something like  game_state[\"current_room\"][\"name\"]\n",
    "        intended_action = input(\"What would you like to do? Type 'explore' or 'examine'?\").strip() \n",
    "        if intended_action == \"explore\":\n",
    "            explore_room(room) ##### shows the items in the room depending on the current room\n",
    "            play_room(room) ##### restart the process with print \"You are now in room\" \n",
    "        elif intended_action == \"examine\": \n",
    "            examine_item(input(\"What would you like to examine?\").strip()) ##### type a value of the ones specified in explore function\n",
    "        else:\n",
    "            print(\"Not sure what you mean. Type 'explore' or 'examine'.\")\n",
    "            play_room(room)\n",
    "        linebreak()\n",
    "\n",
    "def explore_room(room):\n",
    "    \"\"\"\n",
    "    Explore a room. List all items belonging to this room.\n",
    "    \"\"\"\n",
    "    items = [i[\"name\"] for i in object_relations[room[\"name\"]]] ##### defines a list of the items in current room (need to update object relations for each room)\n",
    "    print(\"You explore the room. This is \" + room[\"name\"] + \". You find \" + \", \".join(items))\n",
    "\n",
    "def get_next_room_of_door(door, current_room):\n",
    "    \"\"\"\n",
    "    From object_relations, find the two rooms connected to the given door.\n",
    "    Return the room that is not the current_room.\n",
    "    \"\"\"\n",
    "    connected_rooms = object_relations[door[\"name\"]] ##### find relations of items to get the specific room\n",
    "    for room in connected_rooms: \n",
    "        if(not current_room == room): ##### loops through the rooms to check if the current room is not the one that object relations points to and returned it \n",
    "            return room\n",
    "\n",
    "def examine_item(item_name): ##### gets an input to examine\n",
    "    \"\"\"\n",
    "    Examine an item which can be a door or furniture.\n",
    "    First make sure the intended item belongs to the current room.\n",
    "    Then check if the item is a door. Tell player if key hasn't been \n",
    "    collected yet. Otherwise ask player if they want to go to the next\n",
    "    room. If the item is not a door, then check if it contains keys.\n",
    "    Collect the key if found and update the game state. At the end,\n",
    "    play either the current or the next room depending on the game state\n",
    "    to keep playing.\n",
    "    \"\"\"\n",
    "    current_room = game_state[\"current_room\"] ##### defined as variable for future use in get_door_next_room\n",
    "    next_room = \"\"\n",
    "    output = None\n",
    "    \n",
    "    for item in object_relations[current_room[\"name\"]]: ##### loop items list of current room values - for game_room would be couch, piano and door a\n",
    "        if(item[\"name\"] == item_name): ##### validates if input matches the object relations values \n",
    "            output = \"You examine \" + item_name + \". \"\n",
    "            if(item[\"type\"] == \"door\"): \n",
    "                have_key = False\n",
    "                for key in game_state[\"keys_collected\"]: ##### checks for keys of the dict values\n",
    "                    if(key[\"target\"] == item): ##### validates if that specific key opens that door (item)\n",
    "                        have_key = True ##### turns the state to true if the key opens that door (item)\n",
    "                if(have_key):\n",
    "                    output += \"You unlock it with a key you have.\" ##### appends the string value \n",
    "                    next_room = get_next_room_of_door(item, current_room) ##### item is a door - apply get_next_room_of_door function\n",
    "                else:\n",
    "                    output += \"It is locked but you don't have the key.\" ##### have_key remains false and blocks the process\n",
    "            else: ##### this happens when the item is not a door\n",
    "                if(item[\"name\"] in object_relations and len(object_relations[item[\"name\"]])>0):  ### when the item is at least one time present in object relations dict\n",
    "                    item_found = object_relations[item[\"name\"]].pop() ##### removes the key from the objet relations of the specific item, if all the keys are collected all the related items should be without value\n",
    "                    game_state[\"keys_collected\"].append(item_found) ##### adds the key to the collected state\n",
    "                    output += \"You find \" + item_found[\"name\"] + \".\" ##### shows the key name\n",
    "                else:\n",
    "                    output += \"There isn't anything interesting about it.\" ##### item is selected and key is not present in there\n",
    "            print(output)\n",
    "            break \n",
    "\n",
    "    if(output is None):\n",
    "        print(\"The item you requested is not found in the current room.\") ##### write an item that is not the one in the explore function\n",
    "    \n",
    "    if(next_room and input(\"Do you want to go to the next room? Enter 'yes' or 'no'\").strip() == 'yes'): ##### if next_room exists (defined after key is used when get_next_room fucntion is applied)\n",
    "        play_room(next_room) ##### uses the target value of the item when the key is used \n",
    "    else:\n",
    "        play_room(current_room) ##### leaves you in the previous room if you say no"
   ]
  },
  {
   "cell_type": "code",
   "execution_count": null,
   "metadata": {},
   "outputs": [
    {
     "name": "stdout",
     "output_type": "stream",
     "text": [
      "You wake up on a couch and find yourself in a strange house with no windows which you have never been to before. You don't remember why you are here and what had happened before. You feel some unknown danger is approaching and you must get out of the house, NOW!\n",
      "You are now in control room\n",
      "What would you like to do? Type 'explore' or 'examine'?explore\n",
      "You explore the room. This is control room. You find commander seat, instrument panel, alpha door\n",
      "You are now in control room\n"
     ]
    }
   ],
   "source": [
    "game_state = INIT_GAME_STATE.copy()\n",
    "\n",
    "start_game()"
   ]
  },
  {
   "cell_type": "code",
   "execution_count": 4,
   "metadata": {},
   "outputs": [
    {
     "name": "stdout",
     "output_type": "stream",
     "text": [
      "You wake up on a couch and find yourself in a strange house with no windows which you have never been to before. You don't remember why you are here and what had happened before. You feel some unknown danger is approaching and you must get out of the house, NOW!\n",
      "You are now in game room\n"
     ]
    },
    {
     "name": "stdin",
     "output_type": "stream",
     "text": [
      "What would you like to do? Type 'explore' or 'examine'? explore\n"
     ]
    },
    {
     "name": "stdout",
     "output_type": "stream",
     "text": [
      "You explore the room. This is game room. You find couch, piano, door a\n",
      "You are now in game room\n"
     ]
    },
    {
     "name": "stdin",
     "output_type": "stream",
     "text": [
      "What would you like to do? Type 'explore' or 'examine'? piano\n"
     ]
    },
    {
     "name": "stdout",
     "output_type": "stream",
     "text": [
      "Not sure what you mean. Type 'explore' or 'examine'.\n",
      "You are now in game room\n"
     ]
    },
    {
     "name": "stdin",
     "output_type": "stream",
     "text": [
      "What would you like to do? Type 'explore' or 'examine'? examine\n",
      "What would you like to examine? piano\n"
     ]
    },
    {
     "name": "stdout",
     "output_type": "stream",
     "text": [
      "You examine piano. You find key for door a.\n",
      "You are now in game room\n"
     ]
    },
    {
     "name": "stdin",
     "output_type": "stream",
     "text": [
      "What would you like to do? Type 'explore' or 'examine'? examine\n",
      "What would you like to examine? door a\n"
     ]
    },
    {
     "name": "stdout",
     "output_type": "stream",
     "text": [
      "You examine door a. You unlock it with a key you have.\n"
     ]
    },
    {
     "name": "stdin",
     "output_type": "stream",
     "text": [
      "Do you want to go to the next room? Ener 'yes' or 'no' yes\n"
     ]
    },
    {
     "name": "stdout",
     "output_type": "stream",
     "text": [
      "You are now in bedroom_1\n"
     ]
    },
    {
     "name": "stdin",
     "output_type": "stream",
     "text": [
      "What would you like to do? Type 'explore' or 'examine'? explore\n"
     ]
    },
    {
     "name": "stdout",
     "output_type": "stream",
     "text": [
      "You explore the room. This is bedroom_1. You find queen_bed, door b, door c\n",
      "You are now in bedroom_1\n"
     ]
    },
    {
     "name": "stdin",
     "output_type": "stream",
     "text": [
      "What would you like to do? Type 'explore' or 'examine'? examine\n",
      "What would you like to examine? door c\n"
     ]
    },
    {
     "name": "stdout",
     "output_type": "stream",
     "text": [
      "You examine door c. It is locked but you don't have the key.\n",
      "You are now in bedroom_1\n"
     ]
    },
    {
     "name": "stdin",
     "output_type": "stream",
     "text": [
      "What would you like to do? Type 'explore' or 'examine'? examine\n",
      "What would you like to examine? door b\n"
     ]
    },
    {
     "name": "stdout",
     "output_type": "stream",
     "text": [
      "You examine door b. It is locked but you don't have the key.\n",
      "You are now in bedroom_1\n"
     ]
    },
    {
     "name": "stdin",
     "output_type": "stream",
     "text": [
      "What would you like to do? Type 'explore' or 'examine'? examine\n",
      "What would you like to examine? queen_bed\n"
     ]
    },
    {
     "name": "stdout",
     "output_type": "stream",
     "text": [
      "You examine queen_bed. You find key for door b.\n",
      "You are now in bedroom_1\n"
     ]
    },
    {
     "name": "stdin",
     "output_type": "stream",
     "text": [
      "What would you like to do? Type 'explore' or 'examine'? examine\n",
      "What would you like to examine? door c\n"
     ]
    },
    {
     "name": "stdout",
     "output_type": "stream",
     "text": [
      "You examine door c. It is locked but you don't have the key.\n",
      "You are now in bedroom_1\n"
     ]
    },
    {
     "name": "stdin",
     "output_type": "stream",
     "text": [
      "What would you like to do? Type 'explore' or 'examine'? examine\n",
      "What would you like to examine? door b\n"
     ]
    },
    {
     "name": "stdout",
     "output_type": "stream",
     "text": [
      "You examine door b. You unlock it with a key you have.\n"
     ]
    },
    {
     "name": "stdin",
     "output_type": "stream",
     "text": [
      "Do you want to go to the next room? Ener 'yes' or 'no' explore\n"
     ]
    },
    {
     "name": "stdout",
     "output_type": "stream",
     "text": [
      "You are now in bedroom_1\n"
     ]
    },
    {
     "name": "stdin",
     "output_type": "stream",
     "text": [
      "What would you like to do? Type 'explore' or 'examine'? examine\n",
      "What would you like to examine? door b\n"
     ]
    },
    {
     "name": "stdout",
     "output_type": "stream",
     "text": [
      "You examine door b. You unlock it with a key you have.\n"
     ]
    },
    {
     "name": "stdin",
     "output_type": "stream",
     "text": [
      "Do you want to go to the next room? Ener 'yes' or 'no' yes\n"
     ]
    },
    {
     "name": "stdout",
     "output_type": "stream",
     "text": [
      "You are now in bedroom_2\n"
     ]
    },
    {
     "name": "stdin",
     "output_type": "stream",
     "text": [
      "What would you like to do? Type 'explore' or 'examine'? explore\n"
     ]
    },
    {
     "name": "stdout",
     "output_type": "stream",
     "text": [
      "You explore the room. This is bedroom_2. You find double_bed, dresser, door b\n",
      "You are now in bedroom_2\n"
     ]
    },
    {
     "name": "stdin",
     "output_type": "stream",
     "text": [
      "What would you like to do? Type 'explore' or 'examine'? examine\n",
      "What would you like to examine? door b\n"
     ]
    },
    {
     "name": "stdout",
     "output_type": "stream",
     "text": [
      "You examine door b. You unlock it with a key you have.\n"
     ]
    },
    {
     "name": "stdin",
     "output_type": "stream",
     "text": [
      "Do you want to go to the next room? Ener 'yes' or 'no' no\n"
     ]
    },
    {
     "name": "stdout",
     "output_type": "stream",
     "text": [
      "You are now in bedroom_2\n"
     ]
    },
    {
     "name": "stdin",
     "output_type": "stream",
     "text": [
      "What would you like to do? Type 'explore' or 'examine'? examine\n",
      "What would you like to examine? dresser\n"
     ]
    },
    {
     "name": "stdout",
     "output_type": "stream",
     "text": [
      "You examine dresser. You find key for door d.\n",
      "You are now in bedroom_2\n"
     ]
    },
    {
     "name": "stdin",
     "output_type": "stream",
     "text": [
      "What would you like to do? Type 'explore' or 'examine'? examine\n",
      "What would you like to examine? double_bed\n"
     ]
    },
    {
     "name": "stdout",
     "output_type": "stream",
     "text": [
      "You examine double_bed. You find key for door c.\n",
      "You are now in bedroom_2\n"
     ]
    },
    {
     "name": "stdin",
     "output_type": "stream",
     "text": [
      "What would you like to do? Type 'explore' or 'examine'? examine\n",
      "What would you like to examine? door b\n"
     ]
    },
    {
     "name": "stdout",
     "output_type": "stream",
     "text": [
      "You examine door b. You unlock it with a key you have.\n"
     ]
    },
    {
     "name": "stdin",
     "output_type": "stream",
     "text": [
      "Do you want to go to the next room? Ener 'yes' or 'no' yes\n"
     ]
    },
    {
     "name": "stdout",
     "output_type": "stream",
     "text": [
      "You are now in bedroom_1\n"
     ]
    },
    {
     "name": "stdin",
     "output_type": "stream",
     "text": [
      "What would you like to do? Type 'explore' or 'examine'? examine\n",
      "What would you like to examine? door c\n"
     ]
    },
    {
     "name": "stdout",
     "output_type": "stream",
     "text": [
      "You examine door c. You unlock it with a key you have.\n"
     ]
    },
    {
     "name": "stdin",
     "output_type": "stream",
     "text": [
      "Do you want to go to the next room? Ener 'yes' or 'no' yes\n"
     ]
    },
    {
     "name": "stdout",
     "output_type": "stream",
     "text": [
      "Congrats! You escaped the room!\n",
      "\n",
      "\n",
      "\n",
      "\n",
      "\n",
      "\n",
      "\n",
      "\n",
      "\n",
      "\n",
      "\n",
      "\n",
      "\n",
      "\n",
      "\n",
      "\n",
      "\n",
      "\n",
      "\n",
      "\n",
      "\n",
      "\n",
      "\n",
      "\n",
      "\n",
      "\n",
      "\n",
      "\n",
      "\n",
      "\n",
      "\n",
      "\n",
      "\n",
      "\n",
      "\n",
      "\n",
      "\n",
      "\n",
      "\n",
      "\n",
      "\n",
      "\n",
      "\n",
      "\n",
      "\n",
      "\n",
      "\n",
      "\n",
      "\n",
      "\n",
      "\n"
     ]
    }
   ],
   "source": [
    "game_state = INIT_GAME_STATE.copy()\n",
    "\n",
    "start_game()"
   ]
  },
  {
   "cell_type": "code",
   "execution_count": 8,
   "metadata": {},
   "outputs": [
    {
     "name": "stdout",
     "output_type": "stream",
     "text": [
      "You wake up on a couch and find yourself in a strange house with no windows which you have never been to before. You don't remember why you are here and what had happened before. You feel some unknown danger is approaching and you must get out of the house, NOW!\n",
      "You are now in game room\n"
     ]
    },
    {
     "name": "stdin",
     "output_type": "stream",
     "text": [
      "What would you like to do? Type 'explore' or 'examine'? explore\n"
     ]
    },
    {
     "name": "stdout",
     "output_type": "stream",
     "text": [
      "You explore the room. This is game room. You find couch, piano, door a\n",
      "You are now in game room\n"
     ]
    },
    {
     "name": "stdin",
     "output_type": "stream",
     "text": [
      "What would you like to do? Type 'explore' or 'examine'? examine\n",
      "What would you like to examine? couch\n"
     ]
    },
    {
     "name": "stdout",
     "output_type": "stream",
     "text": [
      "You examine couch. There isn't anything interesting about it.\n",
      "You are now in game room\n"
     ]
    },
    {
     "name": "stdin",
     "output_type": "stream",
     "text": [
      "What would you like to do? Type 'explore' or 'examine'? examine\n",
      "What would you like to examine? piano\n"
     ]
    },
    {
     "name": "stdout",
     "output_type": "stream",
     "text": [
      "You examine piano. You find key for door a.\n",
      "You are now in game room\n"
     ]
    },
    {
     "name": "stdin",
     "output_type": "stream",
     "text": [
      "What would you like to do? Type 'explore' or 'examine'? examine\n",
      "What would you like to examine? door a\n"
     ]
    },
    {
     "name": "stdout",
     "output_type": "stream",
     "text": [
      "You examine door a. You unlock it with a key you have.\n"
     ]
    },
    {
     "name": "stdin",
     "output_type": "stream",
     "text": [
      "Do you want to go to the next room? Ener 'yes' or 'no' yes\n"
     ]
    },
    {
     "name": "stdout",
     "output_type": "stream",
     "text": [
      "You are now in bedroom 1\n"
     ]
    },
    {
     "name": "stdin",
     "output_type": "stream",
     "text": [
      "What would you like to do? Type 'explore' or 'examine'? explore\n"
     ]
    },
    {
     "name": "stdout",
     "output_type": "stream",
     "text": [
      "You explore the room. This is bedroom 1. You find queen bed, door b, door c\n",
      "You are now in bedroom 1\n"
     ]
    },
    {
     "name": "stdin",
     "output_type": "stream",
     "text": [
      "What would you like to do? Type 'explore' or 'examine'? examine\n",
      "What would you like to examine? queen bed\n"
     ]
    },
    {
     "name": "stdout",
     "output_type": "stream",
     "text": [
      "You examine queen bed. You find key for door b.\n",
      "You are now in bedroom 1\n"
     ]
    },
    {
     "name": "stdin",
     "output_type": "stream",
     "text": [
      "What would you like to do? Type 'explore' or 'examine'? examine\n",
      "What would you like to examine? door b\n"
     ]
    },
    {
     "name": "stdout",
     "output_type": "stream",
     "text": [
      "You examine door b. You unlock it with a key you have.\n"
     ]
    },
    {
     "name": "stdin",
     "output_type": "stream",
     "text": [
      "Do you want to go to the next room? Ener 'yes' or 'no' yes\n"
     ]
    },
    {
     "name": "stdout",
     "output_type": "stream",
     "text": [
      "You are now in bedroom 2\n"
     ]
    },
    {
     "name": "stdin",
     "output_type": "stream",
     "text": [
      "What would you like to do? Type 'explore' or 'examine'? explore\n"
     ]
    },
    {
     "name": "stdout",
     "output_type": "stream",
     "text": [
      "You explore the room. This is bedroom 2. You find double bed, dresser, door b\n",
      "You are now in bedroom 2\n"
     ]
    },
    {
     "name": "stdin",
     "output_type": "stream",
     "text": [
      "What would you like to do? Type 'explore' or 'examine'? examine\n",
      "What would you like to examine? double bed\n"
     ]
    },
    {
     "name": "stdout",
     "output_type": "stream",
     "text": [
      "You examine double bed. You find key for door c.\n",
      "You are now in bedroom 2\n"
     ]
    },
    {
     "name": "stdin",
     "output_type": "stream",
     "text": [
      "What would you like to do? Type 'explore' or 'examine'? examine dresser\n"
     ]
    },
    {
     "name": "stdout",
     "output_type": "stream",
     "text": [
      "Not sure what you mean. Type 'explore' or 'examine'.\n",
      "You are now in bedroom 2\n"
     ]
    },
    {
     "name": "stdin",
     "output_type": "stream",
     "text": [
      "What would you like to do? Type 'explore' or 'examine'? examine\n",
      "What would you like to examine? dresser\n"
     ]
    },
    {
     "name": "stdout",
     "output_type": "stream",
     "text": [
      "You examine dresser. You find key for door d.\n",
      "You are now in bedroom 2\n"
     ]
    },
    {
     "name": "stdin",
     "output_type": "stream",
     "text": [
      "What would you like to do? Type 'explore' or 'examine'? examine\n",
      "What would you like to examine? door c\n"
     ]
    },
    {
     "name": "stdout",
     "output_type": "stream",
     "text": [
      "The item you requested is not found in the current room.\n",
      "You are now in bedroom 2\n"
     ]
    },
    {
     "name": "stdin",
     "output_type": "stream",
     "text": [
      "What would you like to do? Type 'explore' or 'examine'? examine\n",
      "What would you like to examine? door b\n"
     ]
    },
    {
     "name": "stdout",
     "output_type": "stream",
     "text": [
      "You examine door b. You unlock it with a key you have.\n"
     ]
    },
    {
     "name": "stdin",
     "output_type": "stream",
     "text": [
      "Do you want to go to the next room? Ener 'yes' or 'no' explore\n"
     ]
    },
    {
     "name": "stdout",
     "output_type": "stream",
     "text": [
      "You are now in bedroom 2\n"
     ]
    },
    {
     "name": "stdin",
     "output_type": "stream",
     "text": [
      "What would you like to do? Type 'explore' or 'examine'? examine\n",
      "What would you like to examine? door b\n"
     ]
    },
    {
     "name": "stdout",
     "output_type": "stream",
     "text": [
      "You examine door b. You unlock it with a key you have.\n"
     ]
    },
    {
     "name": "stdin",
     "output_type": "stream",
     "text": [
      "Do you want to go to the next room? Ener 'yes' or 'no' yes\n"
     ]
    },
    {
     "name": "stdout",
     "output_type": "stream",
     "text": [
      "You are now in bedroom 1\n"
     ]
    },
    {
     "name": "stdin",
     "output_type": "stream",
     "text": [
      "What would you like to do? Type 'explore' or 'examine'? explore\n"
     ]
    },
    {
     "name": "stdout",
     "output_type": "stream",
     "text": [
      "You explore the room. This is bedroom 1. You find queen bed, door b, door c\n",
      "You are now in bedroom 1\n"
     ]
    },
    {
     "name": "stdin",
     "output_type": "stream",
     "text": [
      "What would you like to do? Type 'explore' or 'examine'? examine\n",
      "What would you like to examine? door c\n"
     ]
    },
    {
     "name": "stdout",
     "output_type": "stream",
     "text": [
      "You examine door c. You unlock it with a key you have.\n"
     ]
    },
    {
     "name": "stdin",
     "output_type": "stream",
     "text": [
      "Do you want to go to the next room? Ener 'yes' or 'no' yes\n"
     ]
    },
    {
     "name": "stdout",
     "output_type": "stream",
     "text": [
      "You are now in living room\n"
     ]
    },
    {
     "name": "stdin",
     "output_type": "stream",
     "text": [
      "What would you like to do? Type 'explore' or 'examine'? explore\n"
     ]
    },
    {
     "name": "stdout",
     "output_type": "stream",
     "text": [
      "You explore the room. This is living room. You find dining table, door c, door d\n",
      "You are now in living room\n"
     ]
    },
    {
     "name": "stdin",
     "output_type": "stream",
     "text": [
      "What would you like to do? Type 'explore' or 'examine'? examine\n",
      "What would you like to examine? dining table\n"
     ]
    },
    {
     "name": "stdout",
     "output_type": "stream",
     "text": [
      "You examine dining table. There isn't anything interesting about it.\n",
      "You are now in living room\n"
     ]
    },
    {
     "name": "stdin",
     "output_type": "stream",
     "text": [
      "What would you like to do? Type 'explore' or 'examine'? examine\n",
      "What would you like to examine? door d\n"
     ]
    },
    {
     "name": "stdout",
     "output_type": "stream",
     "text": [
      "You examine door d. You unlock it with a key you have.\n"
     ]
    },
    {
     "name": "stdin",
     "output_type": "stream",
     "text": [
      "Do you want to go to the next room? Ener 'yes' or 'no' yes\n"
     ]
    },
    {
     "name": "stdout",
     "output_type": "stream",
     "text": [
      "Congrats! You escaped the room!\n",
      "\n",
      "\n",
      "\n",
      "\n",
      "\n",
      "\n",
      "\n",
      "\n",
      "\n",
      "\n",
      "\n",
      "\n",
      "\n",
      "\n",
      "\n",
      "\n",
      "\n",
      "\n",
      "\n",
      "\n",
      "\n",
      "\n",
      "\n",
      "\n",
      "\n",
      "\n",
      "\n",
      "\n",
      "\n",
      "\n",
      "\n",
      "\n",
      "\n",
      "\n",
      "\n",
      "\n",
      "\n",
      "\n",
      "\n",
      "\n",
      "\n",
      "\n",
      "\n",
      "\n",
      "\n",
      "\n",
      "\n",
      "\n",
      "\n",
      "\n",
      "\n",
      "\n",
      "\n",
      "\n",
      "\n",
      "\n",
      "\n"
     ]
    }
   ],
   "source": [
    "game_state = INIT_GAME_STATE.copy()\n",
    "\n",
    "start_game()"
   ]
  },
  {
   "cell_type": "code",
   "execution_count": null,
   "metadata": {},
   "outputs": [],
   "source": []
  }
 ],
 "metadata": {
  "kernelspec": {
   "display_name": "Python 3 (ipykernel)",
   "language": "python",
   "name": "python3"
  },
  "language_info": {
   "codemirror_mode": {
    "name": "ipython",
    "version": 3
   },
   "file_extension": ".py",
   "mimetype": "text/x-python",
   "name": "python",
   "nbconvert_exporter": "python",
   "pygments_lexer": "ipython3",
   "version": "3.9.7"
  }
 },
 "nbformat": 4,
 "nbformat_minor": 4
}
