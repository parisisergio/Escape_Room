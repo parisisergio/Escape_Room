{
  "nbformat": 4,
  "nbformat_minor": 0,
  "metadata": {
    "colab": {
      "name": "ASCII_art_text_pyfiglet.ipynb",
      "provenance": [],
      "collapsed_sections": []
    },
    "kernelspec": {
      "name": "python3",
      "display_name": "Python 3"
    }
  },
  "cells": [
    {
      "cell_type": "markdown",
      "metadata": {
        "id": "eX1aYF3Cx805"
      },
      "source": [
        "# **How to make ASCII Art Text in Python using PyFiglet**\n",
        "\n",
        "Chanin Nantasenamat\n",
        "\n",
        "***Coding Professor YouTube channel***, https://www.youtube.com/channel/UCJzlfIoF8nmWqJIv_iWQVRw"
      ]
    },
    {
      "cell_type": "markdown",
      "metadata": {
        "id": "fiT8yySwyq1X"
      },
      "source": [
        "# **Installing the PyFiglet library**"
      ]
    },
    {
      "cell_type": "code",
      "metadata": {
        "colab": {
          "base_uri": "https://localhost:8080/"
        },
        "id": "dCTx6yYZv4ex",
        "outputId": "2c82d0cd-e69d-4ec9-9ca1-76b99e3a96fc"
      },
      "source": [
        "! pip install pyfiglet"
      ],
      "execution_count": 1,
      "outputs": [
        {
          "output_type": "stream",
          "text": [
            "Collecting pyfiglet\n",
            "\u001b[?25l  Downloading https://files.pythonhosted.org/packages/33/07/fcfdd7a2872f5b348953de35acce1544dab0c1e8368dca54279b1cde5c15/pyfiglet-0.8.post1-py2.py3-none-any.whl (865kB)\n",
            "\r\u001b[K     |▍                               | 10kB 12.1MB/s eta 0:00:01\r\u001b[K     |▊                               | 20kB 18.1MB/s eta 0:00:01\r\u001b[K     |█▏                              | 30kB 22.8MB/s eta 0:00:01\r\u001b[K     |█▌                              | 40kB 26.9MB/s eta 0:00:01\r\u001b[K     |██                              | 51kB 13.0MB/s eta 0:00:01\r\u001b[K     |██▎                             | 61kB 14.3MB/s eta 0:00:01\r\u001b[K     |██▋                             | 71kB 13.3MB/s eta 0:00:01\r\u001b[K     |███                             | 81kB 14.1MB/s eta 0:00:01\r\u001b[K     |███▍                            | 92kB 10.9MB/s eta 0:00:01\r\u001b[K     |███▉                            | 102kB 10.8MB/s eta 0:00:01\r\u001b[K     |████▏                           | 112kB 10.8MB/s eta 0:00:01\r\u001b[K     |████▌                           | 122kB 10.8MB/s eta 0:00:01\r\u001b[K     |█████                           | 133kB 10.8MB/s eta 0:00:01\r\u001b[K     |█████▎                          | 143kB 10.8MB/s eta 0:00:01\r\u001b[K     |█████▊                          | 153kB 10.8MB/s eta 0:00:01\r\u001b[K     |██████                          | 163kB 10.8MB/s eta 0:00:01\r\u001b[K     |██████▍                         | 174kB 10.8MB/s eta 0:00:01\r\u001b[K     |██████▉                         | 184kB 10.8MB/s eta 0:00:01\r\u001b[K     |███████▏                        | 194kB 10.8MB/s eta 0:00:01\r\u001b[K     |███████▋                        | 204kB 10.8MB/s eta 0:00:01\r\u001b[K     |████████                        | 215kB 10.8MB/s eta 0:00:01\r\u001b[K     |████████▎                       | 225kB 10.8MB/s eta 0:00:01\r\u001b[K     |████████▊                       | 235kB 10.8MB/s eta 0:00:01\r\u001b[K     |█████████                       | 245kB 10.8MB/s eta 0:00:01\r\u001b[K     |█████████▌                      | 256kB 10.8MB/s eta 0:00:01\r\u001b[K     |█████████▉                      | 266kB 10.8MB/s eta 0:00:01\r\u001b[K     |██████████▏                     | 276kB 10.8MB/s eta 0:00:01\r\u001b[K     |██████████▋                     | 286kB 10.8MB/s eta 0:00:01\r\u001b[K     |███████████                     | 296kB 10.8MB/s eta 0:00:01\r\u001b[K     |███████████▍                    | 307kB 10.8MB/s eta 0:00:01\r\u001b[K     |███████████▊                    | 317kB 10.8MB/s eta 0:00:01\r\u001b[K     |████████████                    | 327kB 10.8MB/s eta 0:00:01\r\u001b[K     |████████████▌                   | 337kB 10.8MB/s eta 0:00:01\r\u001b[K     |████████████▉                   | 348kB 10.8MB/s eta 0:00:01\r\u001b[K     |█████████████▎                  | 358kB 10.8MB/s eta 0:00:01\r\u001b[K     |█████████████▋                  | 368kB 10.8MB/s eta 0:00:01\r\u001b[K     |██████████████                  | 378kB 10.8MB/s eta 0:00:01\r\u001b[K     |██████████████▍                 | 389kB 10.8MB/s eta 0:00:01\r\u001b[K     |██████████████▊                 | 399kB 10.8MB/s eta 0:00:01\r\u001b[K     |███████████████▏                | 409kB 10.8MB/s eta 0:00:01\r\u001b[K     |███████████████▌                | 419kB 10.8MB/s eta 0:00:01\r\u001b[K     |████████████████                | 430kB 10.8MB/s eta 0:00:01\r\u001b[K     |████████████████▎               | 440kB 10.8MB/s eta 0:00:01\r\u001b[K     |████████████████▋               | 450kB 10.8MB/s eta 0:00:01\r\u001b[K     |█████████████████               | 460kB 10.8MB/s eta 0:00:01\r\u001b[K     |█████████████████▍              | 471kB 10.8MB/s eta 0:00:01\r\u001b[K     |█████████████████▉              | 481kB 10.8MB/s eta 0:00:01\r\u001b[K     |██████████████████▏             | 491kB 10.8MB/s eta 0:00:01\r\u001b[K     |██████████████████▌             | 501kB 10.8MB/s eta 0:00:01\r\u001b[K     |███████████████████             | 512kB 10.8MB/s eta 0:00:01\r\u001b[K     |███████████████████▎            | 522kB 10.8MB/s eta 0:00:01\r\u001b[K     |███████████████████▊            | 532kB 10.8MB/s eta 0:00:01\r\u001b[K     |████████████████████            | 542kB 10.8MB/s eta 0:00:01\r\u001b[K     |████████████████████▍           | 552kB 10.8MB/s eta 0:00:01\r\u001b[K     |████████████████████▉           | 563kB 10.8MB/s eta 0:00:01\r\u001b[K     |█████████████████████▏          | 573kB 10.8MB/s eta 0:00:01\r\u001b[K     |█████████████████████▋          | 583kB 10.8MB/s eta 0:00:01\r\u001b[K     |██████████████████████          | 593kB 10.8MB/s eta 0:00:01\r\u001b[K     |██████████████████████▎         | 604kB 10.8MB/s eta 0:00:01\r\u001b[K     |██████████████████████▊         | 614kB 10.8MB/s eta 0:00:01\r\u001b[K     |███████████████████████         | 624kB 10.8MB/s eta 0:00:01\r\u001b[K     |███████████████████████▌        | 634kB 10.8MB/s eta 0:00:01\r\u001b[K     |███████████████████████▉        | 645kB 10.8MB/s eta 0:00:01\r\u001b[K     |████████████████████████▏       | 655kB 10.8MB/s eta 0:00:01\r\u001b[K     |████████████████████████▋       | 665kB 10.8MB/s eta 0:00:01\r\u001b[K     |█████████████████████████       | 675kB 10.8MB/s eta 0:00:01\r\u001b[K     |█████████████████████████▍      | 686kB 10.8MB/s eta 0:00:01\r\u001b[K     |█████████████████████████▊      | 696kB 10.8MB/s eta 0:00:01\r\u001b[K     |██████████████████████████▏     | 706kB 10.8MB/s eta 0:00:01\r\u001b[K     |██████████████████████████▌     | 716kB 10.8MB/s eta 0:00:01\r\u001b[K     |██████████████████████████▉     | 727kB 10.8MB/s eta 0:00:01\r\u001b[K     |███████████████████████████▎    | 737kB 10.8MB/s eta 0:00:01\r\u001b[K     |███████████████████████████▋    | 747kB 10.8MB/s eta 0:00:01\r\u001b[K     |████████████████████████████    | 757kB 10.8MB/s eta 0:00:01\r\u001b[K     |████████████████████████████▍   | 768kB 10.8MB/s eta 0:00:01\r\u001b[K     |████████████████████████████▊   | 778kB 10.8MB/s eta 0:00:01\r\u001b[K     |█████████████████████████████▏  | 788kB 10.8MB/s eta 0:00:01\r\u001b[K     |█████████████████████████████▌  | 798kB 10.8MB/s eta 0:00:01\r\u001b[K     |██████████████████████████████  | 808kB 10.8MB/s eta 0:00:01\r\u001b[K     |██████████████████████████████▎ | 819kB 10.8MB/s eta 0:00:01\r\u001b[K     |██████████████████████████████▋ | 829kB 10.8MB/s eta 0:00:01\r\u001b[K     |███████████████████████████████ | 839kB 10.8MB/s eta 0:00:01\r\u001b[K     |███████████████████████████████▍| 849kB 10.8MB/s eta 0:00:01\r\u001b[K     |███████████████████████████████▉| 860kB 10.8MB/s eta 0:00:01\r\u001b[K     |████████████████████████████████| 870kB 10.8MB/s \n",
            "\u001b[?25hInstalling collected packages: pyfiglet\n",
            "Successfully installed pyfiglet-0.8.post1\n"
          ],
          "name": "stdout"
        }
      ]
    },
    {
      "cell_type": "markdown",
      "metadata": {
        "id": "wLarVhutywo_"
      },
      "source": [
        "# **Importing the library function**"
      ]
    },
    {
      "cell_type": "code",
      "metadata": {
        "id": "yovA2c2Yv7wU"
      },
      "source": [
        "from pyfiglet import figlet_format "
      ],
      "execution_count": 2,
      "outputs": []
    },
    {
      "cell_type": "markdown",
      "metadata": {
        "id": "lV5leHugx1gc"
      },
      "source": [
        "# **Rendering Text using Different Font Types**"
      ]
    },
    {
      "cell_type": "code",
      "metadata": {
        "colab": {
          "base_uri": "https://localhost:8080/",
          "height": 105
        },
        "id": "ceDKEAX1XKMz",
        "outputId": "59dd0466-f6ae-42ac-c3a6-921f5cf8519c"
      },
      "source": [
        "figlet_format(\"Coding Professor\", font = \"standard\" )"
      ],
      "execution_count": 3,
      "outputs": [
        {
          "output_type": "execute_result",
          "data": {
            "application/vnd.google.colaboratory.intrinsic+json": {
              "type": "string"
            },
            "text/plain": [
              "\"  ____          _ _               ____             __                          \\n / ___|___   __| (_)_ __   __ _  |  _ \\\\ _ __ ___  / _| ___  ___ ___  ___  _ __ \\n| |   / _ \\\\ / _` | | '_ \\\\ / _` | | |_) | '__/ _ \\\\| |_ / _ \\\\/ __/ __|/ _ \\\\| '__|\\n| |__| (_) | (_| | | | | | (_| | |  __/| | | (_) |  _|  __/\\\\__ \\\\__ \\\\ (_) | |   \\n \\\\____\\\\___/ \\\\__,_|_|_| |_|\\\\__, | |_|   |_|  \\\\___/|_|  \\\\___||___/___/\\\\___/|_|   \\n                          |___/                                                \\n\""
            ]
          },
          "metadata": {
            "tags": []
          },
          "execution_count": 3
        }
      ]
    },
    {
      "cell_type": "code",
      "metadata": {
        "colab": {
          "base_uri": "https://localhost:8080/"
        },
        "id": "8aH859nKqPwF",
        "outputId": "cfa7c5e6-66de-40c5-825e-0bbcffae7b57"
      },
      "source": [
        "print(figlet_format(\"Coding Professor\", font = \"standard\" ))"
      ],
      "execution_count": 6,
      "outputs": [
        {
          "output_type": "stream",
          "text": [
            "  ____          _ _               ____             __                          \n",
            " / ___|___   __| (_)_ __   __ _  |  _ \\ _ __ ___  / _| ___  ___ ___  ___  _ __ \n",
            "| |   / _ \\ / _` | | '_ \\ / _` | | |_) | '__/ _ \\| |_ / _ \\/ __/ __|/ _ \\| '__|\n",
            "| |__| (_) | (_| | | | | | (_| | |  __/| | | (_) |  _|  __/\\__ \\__ \\ (_) | |   \n",
            " \\____\\___/ \\__,_|_|_| |_|\\__, | |_|   |_|  \\___/|_|  \\___||___/___/\\___/|_|   \n",
            "                          |___/                                                \n",
            "\n"
          ],
          "name": "stdout"
        }
      ]
    },
    {
      "cell_type": "code",
      "metadata": {
        "colab": {
          "base_uri": "https://localhost:8080/"
        },
        "id": "rh9baJ2OZRVJ",
        "outputId": "9eb05657-4c19-4197-87d4-90aa1d8cc38e"
      },
      "source": [
        "print( figlet_format(\"Coding Professor\", font = \"cybermedium\" ) )"
      ],
      "execution_count": 7,
      "outputs": [
        {
          "output_type": "stream",
          "text": [
            "____ ____ ___  _ _  _ ____    ___  ____ ____ ____ ____ ____ ____ ____ ____ \n",
            "|    |  | |  \\ | |\\ | | __    |__] |__/ |  | |___ |___ [__  [__  |  | |__/ \n",
            "|___ |__| |__/ | | \\| |__]    |    |  \\ |__| |    |___ ___] ___] |__| |  \\ \n",
            "                                                                           \n",
            "\n"
          ],
          "name": "stdout"
        }
      ]
    },
    {
      "cell_type": "code",
      "metadata": {
        "colab": {
          "base_uri": "https://localhost:8080/"
        },
        "id": "BhVJFOgrxQg2",
        "outputId": "10dbde14-3982-43ba-d25c-0257fd94268a"
      },
      "source": [
        "print( figlet_format(\"Coding Professor\", font = \"big\" ) )"
      ],
      "execution_count": 8,
      "outputs": [
        {
          "output_type": "stream",
          "text": [
            "  _____          _ _               _____            __                         \n",
            " / ____|        | (_)             |  __ \\          / _|                        \n",
            "| |     ___   __| |_ _ __   __ _  | |__) | __ ___ | |_ ___  ___ ___  ___  _ __ \n",
            "| |    / _ \\ / _` | | '_ \\ / _` | |  ___/ '__/ _ \\|  _/ _ \\/ __/ __|/ _ \\| '__|\n",
            "| |___| (_) | (_| | | | | | (_| | | |   | | | (_) | ||  __/\\__ \\__ \\ (_) | |   \n",
            " \\_____\\___/ \\__,_|_|_| |_|\\__, | |_|   |_|  \\___/|_| \\___||___/___/\\___/|_|   \n",
            "                            __/ |                                              \n",
            "                           |___/                                               \n",
            "\n"
          ],
          "name": "stdout"
        }
      ]
    },
    {
      "cell_type": "code",
      "metadata": {
        "colab": {
          "base_uri": "https://localhost:8080/"
        },
        "id": "Cjpai6y4cS70",
        "outputId": "be879935-25ab-4df0-a5ab-6ca5006e6471"
      },
      "source": [
        "print( figlet_format(\"Coding\", font = \"univers\" ) )"
      ],
      "execution_count": 9,
      "outputs": [
        {
          "output_type": "stream",
          "text": [
            "                                                                  \n",
            "  ,ad8888ba,                       88 88                          \n",
            " d8\"'    `\"8b                      88 \"\"                          \n",
            "d8'                                88                             \n",
            "88             ,adPPYba,   ,adPPYb,88 88 8b,dPPYba,   ,adPPYb,d8  \n",
            "88            a8\"     \"8a a8\"    `Y88 88 88P'   `\"8a a8\"    `Y88  \n",
            "Y8,           8b       d8 8b       88 88 88       88 8b       88  \n",
            " Y8a.    .a8P \"8a,   ,a8\" \"8a,   ,d88 88 88       88 \"8a,   ,d88  \n",
            "  `\"Y8888Y\"'   `\"YbbdP\"'   `\"8bbdP\"Y8 88 88       88  `\"YbbdP\"Y8  \n",
            "                                                      aa,    ,88  \n",
            "                                                       \"Y8bbdP\"   \n",
            "\n"
          ],
          "name": "stdout"
        }
      ]
    },
    {
      "cell_type": "code",
      "metadata": {
        "colab": {
          "base_uri": "https://localhost:8080/"
        },
        "id": "d2U4AfyweKI-",
        "outputId": "a2c4e12c-4a22-4a62-fb1d-f8034253c3b9"
      },
      "source": [
        "print( figlet_format(\"Code\", font = \"isometric3\" ) )"
      ],
      "execution_count": 10,
      "outputs": [
        {
          "output_type": "stream",
          "text": [
            "      ___           ___          _____          ___     \n",
            "     /  /\\         /  /\\        /  /::\\        /  /\\    \n",
            "    /  /:/        /  /::\\      /  /:/\\:\\      /  /:/_   \n",
            "   /  /:/        /  /:/\\:\\    /  /:/  \\:\\    /  /:/ /\\  \n",
            "  /  /:/  ___   /  /:/  \\:\\  /__/:/ \\__\\:|  /  /:/ /:/_ \n",
            " /__/:/  /  /\\ /__/:/ \\__\\:\\ \\  \\:\\ /  /:/ /__/:/ /:/ /\\\n",
            " \\  \\:\\ /  /:/ \\  \\:\\ /  /:/  \\  \\:\\  /:/  \\  \\:\\/:/ /:/\n",
            "  \\  \\:\\  /:/   \\  \\:\\  /:/    \\  \\:\\/:/    \\  \\::/ /:/ \n",
            "   \\  \\:\\/:/     \\  \\:\\/:/      \\  \\::/      \\  \\:\\/:/  \n",
            "    \\  \\::/       \\  \\::/        \\__\\/        \\  \\::/   \n",
            "     \\__\\/         \\__\\/                       \\__\\/    \n",
            "\n"
          ],
          "name": "stdout"
        }
      ]
    },
    {
      "cell_type": "markdown",
      "metadata": {
        "id": "HCzm5Ug9pNnl"
      },
      "source": [
        "# **Write to file**"
      ]
    },
    {
      "cell_type": "code",
      "metadata": {
        "id": "0SdD1EFFoYun"
      },
      "source": [
        "f = open('output.txt', 'a')\n",
        "text = figlet_format(\"Coding Professor\", font = \"standard\" )\n",
        "f.write(text)\n",
        "f.close()"
      ],
      "execution_count": 11,
      "outputs": []
    },
    {
      "cell_type": "code",
      "metadata": {
        "id": "PDMYTtkOtUXi"
      },
      "source": [
        "f = open('coding.txt', 'a')\n",
        "text = figlet_format(\"Coding\", font = \"standard\" )\n",
        "f.write(text)\n",
        "f.close()"
      ],
      "execution_count": 12,
      "outputs": []
    },
    {
      "cell_type": "code",
      "metadata": {
        "id": "BhcgdkcJtaGG"
      },
      "source": [
        "f = open('professor.txt', 'a')\n",
        "text = figlet_format(\"Professor\", font = \"standard\" )\n",
        "f.write(text)\n",
        "f.close()"
      ],
      "execution_count": 13,
      "outputs": []
    },
    {
      "cell_type": "markdown",
      "metadata": {
        "id": "FHRBP3JOz64p"
      },
      "source": [
        "Examples of fonts http://www.figlet.org/examples.html"
      ]
    }
  ]
}